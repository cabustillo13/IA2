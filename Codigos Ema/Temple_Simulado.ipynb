{
 "cells": [
  {
   "cell_type": "markdown",
   "metadata": {},
   "source": [
    "# Análisis de la influencia de la temperatura en Temple Simulado\n",
    "A continuación se obtendrán las soluciones dadas para el problema de picking en el almacén. Se verán resultados para distinta cantidad de iteraciones y se analizará gráficamente el resultado"
   ]
  },
  {
   "cell_type": "code",
   "execution_count": 1,
   "metadata": {},
   "outputs": [],
   "source": [
    "from temple_simulado_analisis import fitness, swap_positions, simulated_annealing, plot_solution\n",
    "from time import time\n",
    "\n",
    "picking_list = [37, 47, 11, 48, 24]\n",
    "order = [12, 3, 20, 36, 32, 37, 1, 2, 4, 23, 39, 9, 19, 40, 46, 29, 27, 35, 45, 13, 16, 14, 24, 11, 48, 6, 7, 25, 5, 47, 15, 41, 43, 22, 8, 34, 26, 42, 38, 21, 33, 31, 30, 28, 17, 18, 10, 44]   \n",
    "tiempo_pick = []\n",
    "mejora = []"
   ]
  },
  {
   "cell_type": "markdown",
   "metadata": {},
   "source": [
    "En el caso dado se usa la lista _order_, la cual se toma en referencia para la creación del mapa del almacén"
   ]
  },
  {
   "cell_type": "code",
   "execution_count": 2,
   "metadata": {},
   "outputs": [
    {
     "name": "stdout",
     "output_type": "stream",
     "text": [
      "Distancia inicial: 84 con lista: [37, 47, 11, 48, 24]\n",
      "Distancia minima: 84 con lista: [37, 47, 11, 48, 24]\n",
      "Mejora:  0.0\n",
      "Tiempo de ejecucion: 0.026 segundos\n"
     ]
    }
   ],
   "source": [
    "#Para T=100\n",
    "T=100\n",
    "t1=time()\n",
    "dist, change = simulated_annealing(picking_list,order,T,True)\n",
    "t2=time()\n",
    "mejora.append(change)\n",
    "t_alg = round(t2-t1,4)\n",
    "tiempo_pick.append(t_alg)\n",
    "print(\"Tiempo de ejecucion:\",t_alg,\"segundos\")\n"
   ]
  },
  {
   "cell_type": "code",
   "execution_count": 3,
   "metadata": {},
   "outputs": [
    {
     "name": "stdout",
     "output_type": "stream",
     "text": [
      "Distancia inicial: 84 con lista: [37, 47, 11, 48, 24]\n",
      "Distancia minima: 78 con lista: [37, 11, 47, 48, 24]\n",
      "Mejora:  0.07142857142857142\n",
      "Tiempo de ejecucion: 0.0156 segundos\n"
     ]
    }
   ],
   "source": [
    "#Para T=200\n",
    "T=200\n",
    "t1=time()\n",
    "dist, change = simulated_annealing(picking_list,order,T,True)\n",
    "t2=time()\n",
    "mejora.append(change)\n",
    "t_alg = round(t2-t1,4)\n",
    "tiempo_pick.append(t_alg)\n",
    "print(\"Tiempo de ejecucion:\",t_alg,\"segundos\")"
   ]
  },
  {
   "cell_type": "code",
   "execution_count": 4,
   "metadata": {},
   "outputs": [
    {
     "name": "stdout",
     "output_type": "stream",
     "text": [
      "Distancia inicial: 84 con lista: [37, 47, 11, 48, 24]\n",
      "Distancia minima: 66 con lista: [37, 24, 11, 48, 47]\n",
      "Mejora:  0.21428571428571427\n",
      "Tiempo de ejecucion: 0.0175 segundos\n"
     ]
    }
   ],
   "source": [
    "#Para T=500:\n",
    "T=500\n",
    "t1=time()\n",
    "dist, change = simulated_annealing(picking_list,order,T,True)\n",
    "t2=time()\n",
    "mejora.append(change)\n",
    "t_alg = round(t2-t1,4)\n",
    "tiempo_pick.append(t_alg)\n",
    "print(\"Tiempo de ejecucion:\",t_alg,\"segundos\")"
   ]
  },
  {
   "cell_type": "code",
   "execution_count": 5,
   "metadata": {},
   "outputs": [
    {
     "name": "stdout",
     "output_type": "stream",
     "text": [
      "Distancia inicial: 84 con lista: [37, 47, 11, 48, 24]\n",
      "Distancia minima: 78 con lista: [48, 47, 11, 37, 24]\n",
      "Mejora:  0.07142857142857142\n",
      "Tiempo de ejecucion: 0.0492 segundos\n"
     ]
    }
   ],
   "source": [
    "#Para T=1000:\n",
    "T=1000\n",
    "t1=time()\n",
    "dist, change = simulated_annealing(picking_list,order,T,True)\n",
    "t2=time()\n",
    "mejora.append(change)\n",
    "t_alg = round(t2-t1,4)\n",
    "tiempo_pick.append(t_alg)\n",
    "print(\"Tiempo de ejecucion:\",t_alg,\"segundos\")"
   ]
  },
  {
   "cell_type": "code",
   "execution_count": 6,
   "metadata": {},
   "outputs": [
    {
     "name": "stdout",
     "output_type": "stream",
     "text": [
      "Distancia inicial: 84 con lista: [37, 47, 11, 48, 24]\n",
      "Distancia minima: 82 con lista: [47, 37, 11, 48, 24]\n",
      "Mejora:  0.023809523809523808\n",
      "Tiempo de ejecucion: 0.0229 segundos\n"
     ]
    }
   ],
   "source": [
    "#Para T=2000\n",
    "T=2000\n",
    "t1=time()\n",
    "dist, change = simulated_annealing(picking_list,order,T,True)\n",
    "t2=time()\n",
    "mejora.append(change)\n",
    "t_alg = round(t2-t1,4)\n",
    "tiempo_pick.append(t_alg)\n",
    "print(\"Tiempo de ejecucion:\",t_alg,\"segundos\")"
   ]
  },
  {
   "cell_type": "code",
   "execution_count": 7,
   "metadata": {},
   "outputs": [
    {
     "name": "stdout",
     "output_type": "stream",
     "text": [
      "Distancia inicial: 84 con lista: [37, 47, 11, 48, 24]\n",
      "Distancia minima: 66 con lista: [37, 24, 11, 48, 47]\n",
      "Mejora:  0.21428571428571427\n",
      "Tiempo de ejecucion: 0.0529 segundos\n"
     ]
    }
   ],
   "source": [
    "#Para T=2500\n",
    "T=2500\n",
    "t1=time()\n",
    "dist, change = simulated_annealing(picking_list,order,T,True)\n",
    "t2=time()\n",
    "mejora.append(change)\n",
    "t_alg = round(t2-t1,4)\n",
    "tiempo_pick.append(t_alg)\n",
    "print(\"Tiempo de ejecucion:\",t_alg,\"segundos\")"
   ]
  },
  {
   "cell_type": "code",
   "execution_count": 8,
   "metadata": {},
   "outputs": [
    {
     "name": "stdout",
     "output_type": "stream",
     "text": [
      "Distancia inicial: 84 con lista: [37, 47, 11, 48, 24]\n",
      "Distancia minima: 66 con lista: [37, 47, 11, 24, 48]\n",
      "Mejora:  0.21428571428571427\n",
      "Tiempo de ejecucion: 0.0167 segundos\n"
     ]
    }
   ],
   "source": [
    "#Para T=5000\n",
    "T=5000\n",
    "t1=time()\n",
    "dist, change = simulated_annealing(picking_list,order,T,True)\n",
    "t2=time()\n",
    "mejora.append(change)\n",
    "t_alg = round(t2-t1,4)\n",
    "tiempo_pick.append(t_alg)\n",
    "print(\"Tiempo de ejecucion:\",t_alg,\"segundos\")"
   ]
  },
  {
   "cell_type": "code",
   "execution_count": 9,
   "metadata": {},
   "outputs": [
    {
     "name": "stdout",
     "output_type": "stream",
     "text": [
      "Distancia inicial: 84 con lista: [37, 47, 11, 48, 24]\n",
      "Distancia minima: 84 con lista: [37, 47, 11, 48, 24]\n",
      "Mejora:  0.0\n",
      "Tiempo de ejecucion: 0.0246 segundos\n"
     ]
    }
   ],
   "source": [
    "#Para T=10000\n",
    "T=10000\n",
    "t1=time()\n",
    "dist, change = simulated_annealing(picking_list,order,T,True)\n",
    "t2=time()\n",
    "mejora.append(change)\n",
    "t_alg = round(t2-t1,4)\n",
    "tiempo_pick.append(t_alg)\n",
    "print(\"Tiempo de ejecucion:\",t_alg,\"segundos\")"
   ]
  },
  {
   "cell_type": "markdown",
   "metadata": {},
   "source": [
    "Para una lista de picking pequeña no se notan grandes diferencias en cuanto al tiempo de resolución del algoritmo, y al ser tan pequeño el tamaño de orden no se puede apreciar. \n",
    "Se realizará un análisis teniendo en cuenta la cantidad de órdenes de _picking_: "
   ]
  },
  {
   "cell_type": "code",
   "execution_count": 10,
   "metadata": {},
   "outputs": [],
   "source": [
    "import matplotlib.pyplot as plt\n",
    "picking_list = [37, 47, 11, 48, 24, 9, 20, 43, 39, 37]\n",
    "tiempo = []\n",
    "Temp=[]\n",
    "cambio=[]"
   ]
  },
  {
   "cell_type": "code",
   "execution_count": 11,
   "metadata": {},
   "outputs": [
    {
     "name": "stdout",
     "output_type": "stream",
     "text": [
      "Distancia inicial: 121 con lista: [37, 47, 11, 48, 24, 9, 20, 43, 39, 37]\n",
      "Distancia minima: 121 con lista: [37, 47, 11, 48, 24, 9, 20, 43, 39, 37]\n",
      "Mejora:  0.0\n",
      "Tiempo de ejecucion: 0.0253 segundos\n"
     ]
    }
   ],
   "source": [
    "#Para T=100:\n",
    "T=100\n",
    "Temp.append(T)\n",
    "t1=time()\n",
    "dist, change = simulated_annealing(picking_list,order,T,True)\n",
    "t2=time()\n",
    "cambio.append(change)\n",
    "t_alg=round(t2-t1,4)\n",
    "tiempo.append(t_alg)\n",
    "print(\"Tiempo de ejecucion:\",t_alg,\"segundos\")"
   ]
  },
  {
   "cell_type": "code",
   "execution_count": 12,
   "metadata": {},
   "outputs": [
    {
     "name": "stdout",
     "output_type": "stream",
     "text": [
      "Distancia inicial: 121 con lista: [37, 47, 11, 48, 24, 9, 20, 43, 39, 37]\n",
      "Distancia minima: 113 con lista: [37, 47, 43, 48, 24, 9, 20, 11, 39, 37]\n",
      "Mejora:  0.06611570247933884\n",
      "Tiempo de ejecucion: 0.0262 segundos\n"
     ]
    }
   ],
   "source": [
    "#Para T=200:\n",
    "T=200\n",
    "Temp.append(T)\n",
    "t1=time()\n",
    "dist, change = simulated_annealing(picking_list,order,T,True)\n",
    "t2=time()\n",
    "cambio.append(change)\n",
    "t_alg=round(t2-t1,4)\n",
    "tiempo.append(t_alg)\n",
    "print(\"Tiempo de ejecucion:\",t_alg,\"segundos\")"
   ]
  },
  {
   "cell_type": "code",
   "execution_count": 13,
   "metadata": {},
   "outputs": [
    {
     "name": "stdout",
     "output_type": "stream",
     "text": [
      "Distancia inicial: 121 con lista: [37, 47, 11, 48, 24, 9, 20, 43, 39, 37]\n",
      "Distancia minima: 117 con lista: [37, 43, 11, 48, 24, 9, 20, 47, 39, 37]\n",
      "Mejora:  0.03305785123966942\n",
      "Tiempo de ejecucion: 0.0302 segundos\n"
     ]
    }
   ],
   "source": [
    "#Para T=500:\n",
    "T=500\n",
    "Temp.append(T)\n",
    "t1=time()\n",
    "dist, change = simulated_annealing(picking_list,order,T,True)\n",
    "t2=time()\n",
    "cambio.append(change)\n",
    "t_alg=round(t2-t1,4)\n",
    "tiempo.append(t_alg)\n",
    "print(\"Tiempo de ejecucion:\",t_alg,\"segundos\")"
   ]
  },
  {
   "cell_type": "code",
   "execution_count": 14,
   "metadata": {},
   "outputs": [
    {
     "name": "stdout",
     "output_type": "stream",
     "text": [
      "Distancia inicial: 121 con lista: [37, 47, 11, 48, 24, 9, 20, 43, 39, 37]\n",
      "Distancia minima: 115 con lista: [37, 47, 11, 48, 9, 24, 20, 43, 39, 37]\n",
      "Mejora:  0.049586776859504134\n",
      "Tiempo de ejecucion: 0.0583 segundos\n"
     ]
    }
   ],
   "source": [
    "#Para T=1000:\n",
    "T=1000\n",
    "Temp.append(T)\n",
    "t1=time()\n",
    "dist, change = simulated_annealing(picking_list,order,T,True)\n",
    "t2=time()\n",
    "cambio.append(change)\n",
    "t_alg=round(t2-t1,4)\n",
    "tiempo.append(t_alg)\n",
    "print(\"Tiempo de ejecucion:\",t_alg,\"segundos\")"
   ]
  },
  {
   "cell_type": "code",
   "execution_count": 15,
   "metadata": {},
   "outputs": [
    {
     "name": "stdout",
     "output_type": "stream",
     "text": [
      "Distancia inicial: 121 con lista: [37, 47, 11, 48, 24, 9, 20, 43, 39, 37]\n",
      "Distancia minima: 121 con lista: [37, 47, 11, 48, 24, 9, 20, 43, 39, 37]\n",
      "Mejora:  0.0\n",
      "Tiempo de ejecucion: 0.0241 segundos\n"
     ]
    }
   ],
   "source": [
    "#Para T=2000:\n",
    "T=2000\n",
    "Temp.append(T)\n",
    "t1=time()\n",
    "dist, change = simulated_annealing(picking_list,order,T,True)\n",
    "t2=time()\n",
    "cambio.append(change)\n",
    "t_alg=round(t2-t1,4)\n",
    "tiempo.append(t_alg)\n",
    "print(\"Tiempo de ejecucion:\",t_alg,\"segundos\")"
   ]
  },
  {
   "cell_type": "code",
   "execution_count": 16,
   "metadata": {},
   "outputs": [
    {
     "name": "stdout",
     "output_type": "stream",
     "text": [
      "Distancia inicial: 121 con lista: [37, 47, 11, 48, 24, 9, 20, 43, 39, 37]\n",
      "Distancia minima: 113 con lista: [20, 47, 11, 48, 24, 9, 37, 43, 39, 37]\n",
      "Mejora:  0.06611570247933884\n",
      "Tiempo de ejecucion: 0.0595 segundos\n"
     ]
    }
   ],
   "source": [
    "#Para T=2500:\n",
    "T=2500\n",
    "Temp.append(T)\n",
    "t1=time()\n",
    "dist, change = simulated_annealing(picking_list,order,T,True)\n",
    "t2=time()\n",
    "cambio.append(change)\n",
    "t_alg=round(t2-t1,4)\n",
    "tiempo.append(t_alg)\n",
    "print(\"Tiempo de ejecucion:\",t_alg,\"segundos\")"
   ]
  },
  {
   "cell_type": "code",
   "execution_count": 17,
   "metadata": {},
   "outputs": [
    {
     "name": "stdout",
     "output_type": "stream",
     "text": [
      "Distancia inicial: 121 con lista: [37, 47, 11, 48, 24, 9, 20, 43, 39, 37]\n",
      "Distancia minima: 107 con lista: [37, 47, 9, 48, 24, 11, 20, 43, 39, 37]\n",
      "Mejora:  0.11570247933884298\n",
      "Tiempo de ejecucion: 0.0277 segundos\n"
     ]
    }
   ],
   "source": [
    "#Para T=5000:\n",
    "T=5000\n",
    "Temp.append(T)\n",
    "t1=time()\n",
    "dist, change = simulated_annealing(picking_list,order,T,True)\n",
    "t2=time()\n",
    "cambio.append(change)\n",
    "t_alg=round(t2-t1,4)\n",
    "tiempo.append(t_alg)\n",
    "print(\"Tiempo de ejecucion:\",t_alg,\"segundos\")"
   ]
  },
  {
   "cell_type": "code",
   "execution_count": 18,
   "metadata": {},
   "outputs": [
    {
     "name": "stdout",
     "output_type": "stream",
     "text": [
      "Distancia inicial: 121 con lista: [37, 47, 11, 48, 24, 9, 20, 43, 39, 37]\n",
      "Distancia minima: 121 con lista: [37, 47, 11, 48, 24, 9, 39, 43, 20, 37]\n",
      "Mejora:  0.0\n",
      "Tiempo de ejecucion: 0.0296 segundos\n"
     ]
    }
   ],
   "source": [
    "#Para T=10000:\n",
    "T=10000\n",
    "Temp.append(T)\n",
    "t1=time()\n",
    "dist, change = simulated_annealing(picking_list,order,T,True)\n",
    "t2=time()\n",
    "cambio.append(change)\n",
    "t_alg=round(t2-t1,4)\n",
    "tiempo.append(t_alg)\n",
    "print(\"Tiempo de ejecucion:\",t_alg,\"segundos\")"
   ]
  },
  {
   "cell_type": "code",
   "execution_count": 21,
   "metadata": {},
   "outputs": [
    {
     "data": {
      "image/png": "[encoded data removed]",
      "text/plain": [
       "<Figure size 1152x360 with 2 Axes>"
      ]
     },
     "metadata": {
      "needs_background": "light"
     },
     "output_type": "display_data"
    }
   ],
   "source": [
    "\n",
    "fig, (ax0, ax1) = plt.subplots(1, 2, figsize=(16, 5))\n",
    "ax0.plot(Temp, tiempo, 'r', Temp, tiempo_pick, 'b')\n",
    "ax0.grid()\n",
    "#ax0.ylabel('Tiempo de demora')\n",
    "#ax0.ylabel('Temperatura')\n",
    "ax1.plot(Temp, cambio, 'r', Temp, mejora, 'b')\n",
    "ax1.grid()\n",
    "#ax0.ylabel('Mejora')\n",
    "#ax0.ylabel('Temperatura')"
   ]
  },
  {
   "cell_type": "markdown",
   "metadata": {},
   "source": [
    "El aumento de temperatura no significa que se trate de un aumento en tiempo de computo del algoritmo, esto se debe\n",
    "a que el perfil de decrecimiento de la temperatura es lineal pero con un porcentaje *controlar* _no es lineal, decrece a razon del valor anterior_\n",
    "En el segundo gráfico se puede observar la variación de la energía, se ve el cambio de la energia de manera relativa. (E(inicial)-E(final))/E(inicial)"
   ]
  }
 ],
 "metadata": {
  "kernelspec": {
   "display_name": "Python 3",
   "language": "python",
   "name": "python3"
  },
  "language_info": {
   "codemirror_mode": {
    "name": "ipython",
    "version": 3
   },
   "file_extension": ".py",
   "mimetype": "text/x-python",
   "name": "python",
   "nbconvert_exporter": "python",
   "pygments_lexer": "ipython3",
   "version": "3.8.2"
  }
 },
 "nbformat": 4,
 "nbformat_minor": 4
}
