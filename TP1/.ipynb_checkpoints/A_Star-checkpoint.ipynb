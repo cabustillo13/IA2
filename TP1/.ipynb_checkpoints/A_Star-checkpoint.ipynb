{
 "cells": [
  {
   "cell_type": "markdown",
   "metadata": {},
   "source": [
    "# Análisis de la incidencia de la cantidad de nodos en el algoritmo A*\n",
    "A continuación se realizará un análisis de costo computacional aplicado a la resolución del problema de la trayectoria de un brazo robótico de 6 grados de libertad, y como al agregar puntos articulares aumenta el tiempo de resolución del algoritmo."
   ]
  },
  {
   "cell_type": "code",
   "execution_count": 1,
   "metadata": {},
   "outputs": [],
   "source": [
    "from TP1_ej2 import Nodo, generate_map, generate_obstacles, a_star, main\n",
    "\n",
    "import numpy as np\n",
    "from time import time\n",
    "import random as rd"
   ]
  },
  {
   "cell_type": "markdown",
   "metadata": {},
   "source": [
    "Para el caso de 5 puntos articulares por cada GDL, y luego aumentando gradualmente el número de puntos se obtienen los siguientes resultados:"
   ]
  },
  {
   "cell_type": "code",
   "execution_count": 3,
   "metadata": {},
   "outputs": [
    {
     "name": "stdout",
     "output_type": "stream",
     "text": [
      "Hay 15625 puntos en el espacio articular\n",
      "Hay 156 obstaculos\n",
      "Inicio:  (0, 1, 1, 2, 3, 0) \n",
      "Fin:     (2, 2, 3, 3, 2, 1)\n",
      "Tiempo de ejecucion A*:  0.003871917724609375\n",
      "Hay 1000000 puntos en el espacio articular\n",
      "Hay 10000 obstaculos\n",
      "Inicio:  (4, 5, 7, 1, 7, 7) \n",
      "Fin:     (7, 3, 8, 7, 7, 8)\n",
      "Tiempo de ejecucion A*:  0.06555676460266113\n",
      "Hay 11390625 puntos en el espacio articular\n",
      "Hay 113906 obstaculos\n",
      "Inicio:  (14, 0, 4, 5, 8, 9) \n",
      "Fin:     (1, 14, 9, 1, 4, 1)\n",
      "Tiempo de ejecucion A*:  2.3805506229400635\n",
      "Hay 64000000 puntos en el espacio articular\n",
      "Hay 640000 obstaculos\n",
      "Inicio:  (5, 8, 15, 10, 13, 10) \n",
      "Fin:     (2, 14, 19, 15, 11, 7)\n",
      "Tiempo de ejecucion A*:  6.271552085876465\n",
      "Hay 244140625 puntos en el espacio articular\n",
      "Hay 2441406 obstaculos\n",
      "Inicio:  (9, 14, 16, 10, 6, 4) \n",
      "Fin:     (1, 2, 3, 6, 17, 3)\n",
      "Tiempo de ejecucion A*:  48.76574087142944\n"
     ]
    }
   ],
   "source": [
    "demora = []\n",
    "longitud = []\n",
    "tam = 0 #cntidad de puntos articulares por cada GDLque el tipo tiene un par de instrumentos en su\n",
    "flag = True\n",
    "while flag == True:\n",
    "    tam += 5    \n",
    "    rd.seed(None)\n",
    "    longitud.append(tam)\n",
    "    #Se recomienda un numero menor a 25 para que la ejecucion del codigo sea hasta 30~ seg\n",
    "    map = generate_map(tam) \n",
    "    obstacles = generate_obstacles(map,tam)\n",
    "    #Funcionamiento de randint(a,b): a<=N<=b (nro aleatorio entre a y b, incluidos estos dos)\n",
    "    start = (rd.randint(0,tam-1),rd.randint(0,tam-1),rd.randint(0,tam-1),rd.randint(0,tam-1),rd.randint(0,tam-1),rd.randint(0,tam-1))\n",
    "    end = (rd.randint(0,tam-1),rd.randint(0,tam-1),rd.randint(0,tam-1),rd.randint(0,tam-1),rd.randint(0,tam-1),rd.randint(0,tam-1))\n",
    "\n",
    "    print(\"Inicio: \", start, \"\\nFin:    \", end)\n",
    "    t1=time()\n",
    "    path = a_star(map,start,end,obstacles,tam) #camino solucion\n",
    "    t2 = time()\n",
    "    tiempo= str(t2-t1)\n",
    "    demora.append(tiempo)\n",
    "    #print(\"Camino:\")\n",
    "    #for position in path:\n",
    "    #    print(position)\n",
    "\n",
    "    print(\"Tiempo de ejecucion A*: \", tiempo)\n",
    "    if tam == 25:\n",
    "        flag = False\n"
   ]
  },
  {
   "cell_type": "markdown",
   "metadata": {},
   "source": [
    "Ahora, al graficar en un diagrama que involucre la longitud del espacio articular respecto al costo computacional respecto al tiempo, se obtienen los siguientes resultados:"
   ]
  },
  {
   "cell_type": "code",
   "execution_count": 4,
   "metadata": {},
   "outputs": [
    {
     "data": {
      "text/plain": [
       "[<matplotlib.lines.Line2D at 0x7fccb919b820>]"
      ]
     },
     "execution_count": 4,
     "metadata": {},
     "output_type": "execute_result"
    },
    {
     "data": {
      "image/png": "[encoded data removed]",
      "text/plain": [
       "<Figure size 432x288 with 1 Axes>"
      ]
     },
     "metadata": {
      "needs_background": "light"
     },
     "output_type": "display_data"
    }
   ],
   "source": [
    "import matplotlib.pyplot as plt\n",
    "\n",
    "plt.plot(longitud, demora, 'r')"
   ]
  },
  {
   "cell_type": "markdown",
   "metadata": {},
   "source": [
    "Se puede observar que al aumentar la cantidad de puntos por cada GDL, o sea de aumentar la precisión del movimiento del brazo robótico, el tiempo que demanda la resolución del algoritmo se comporta prácticamente de manera lineal."
   ]
  }
 ],
 "metadata": {
  "kernelspec": {
   "display_name": "Python 3",
   "language": "python",
   "name": "python3"
  },
  "language_info": {
   "codemirror_mode": {
    "name": "ipython",
    "version": 3
   },
   "file_extension": ".py",
   "mimetype": "text/x-python",
   "name": "python",
   "nbconvert_exporter": "python",
   "pygments_lexer": "ipython3",
   "version": "3.8.2"
  }
 },
 "nbformat": 4,
 "nbformat_minor": 4
}
