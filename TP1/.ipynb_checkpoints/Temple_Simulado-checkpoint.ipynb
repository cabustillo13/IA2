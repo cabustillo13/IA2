{
 "cells": [
  {
   "cell_type": "markdown",
   "metadata": {},
   "source": [
    "# Análisis de la influencia de la temperatura en Temple Simulado\n",
    "A continuación se obtendrán las soluciones dadas para el problema de picking en el almacén. Se verán resultados para distinta cantidad de iteraciones y se analizará gráficamente el resultado"
   ]
  },
  {
   "cell_type": "code",
   "execution_count": 1,
   "metadata": {},
   "outputs": [],
   "source": [
    "from temple_simulado_analisis import fitness, swap_positions, simulated_annealing, plot_solution\n",
    "from time import time\n",
    "\n",
    "picking_list = [37, 47, 11, 48, 24]\n",
    "order = [12, 3, 20, 36, 32, 37, 1, 2, 4, 23, 39, 9, 19, 40, 46, 29, 27, 35, 45, 13, 16, 14, 24, 11, 48, 6, 7, 25, 5, 47, 15, 41, 43, 22, 8, 34, 26, 42, 38, 21, 33, 31, 30, 28, 17, 18, 10, 44]   \n",
    "tiempo_pick = []\n",
    "mejora = []"
   ]
  },
  {
   "cell_type": "markdown",
   "metadata": {},
   "source": [
    "En el caso dado se usa la lista _order_, la cual se toma en referencia para la creación del mapa del almacén"
   ]
  },
  {
   "cell_type": "code",
   "execution_count": 2,
   "metadata": {},
   "outputs": [
    {
     "name": "stdout",
     "output_type": "stream",
     "text": [
      "Distancia inicial: 84 con lista: [37, 47, 11, 48, 24]\n",
      "Distancia minima: 66 con lista: [37, 24, 11, 48, 47]\n",
      "Mejora:  0.21428571428571427\n",
      "Tiempo de ejecucion: 0.014 segundos\n"
     ]
    }
   ],
   "source": [
    "#Para T=100\n",
    "T=100\n",
    "t1=time()\n",
    "dist, change = simulated_annealing(picking_list,order,T,True)\n",
    "t2=time()\n",
    "mejora.append(change)\n",
    "t_alg = round(t2-t1,4)\n",
    "tiempo_pick.append(t_alg)\n",
    "print(\"Tiempo de ejecucion:\",t_alg,\"segundos\")\n"
   ]
  },
  {
   "cell_type": "code",
   "execution_count": 3,
   "metadata": {},
   "outputs": [
    {
     "name": "stdout",
     "output_type": "stream",
     "text": [
      "Distancia inicial: 84 con lista: [37, 47, 11, 48, 24]\n",
      "Distancia minima: 78 con lista: [37, 11, 47, 48, 24]\n",
      "Mejora:  0.07142857142857142\n",
      "Tiempo de ejecucion: 0.0173 segundos\n"
     ]
    }
   ],
   "source": [
    "#Para T=200\n",
    "T=200\n",
    "t1=time()\n",
    "dist, change = simulated_annealing(picking_list,order,T,True)\n",
    "t2=time()\n",
    "mejora.append(change)\n",
    "t_alg = round(t2-t1,4)\n",
    "tiempo_pick.append(t_alg)\n",
    "print(\"Tiempo de ejecucion:\",t_alg,\"segundos\")"
   ]
  },
  {
   "cell_type": "code",
   "execution_count": 4,
   "metadata": {},
   "outputs": [
    {
     "name": "stdout",
     "output_type": "stream",
     "text": [
      "Distancia inicial: 84 con lista: [37, 47, 11, 48, 24]\n",
      "Distancia minima: 84 con lista: [37, 47, 11, 48, 24]\n",
      "Mejora:  0.0\n",
      "Tiempo de ejecucion: 0.0237 segundos\n"
     ]
    }
   ],
   "source": [
    "#Para T=300:\n",
    "T=300\n",
    "t1=time()\n",
    "dist, change = simulated_annealing(picking_list,order,T,True)\n",
    "t2=time()\n",
    "mejora.append(change)\n",
    "t_alg = round(t2-t1,4)\n",
    "tiempo_pick.append(t_alg)\n",
    "print(\"Tiempo de ejecucion:\",t_alg,\"segundos\")"
   ]
  },
  {
   "cell_type": "code",
   "execution_count": 5,
   "metadata": {},
   "outputs": [
    {
     "name": "stdout",
     "output_type": "stream",
     "text": [
      "Distancia inicial: 84 con lista: [37, 47, 11, 48, 24]\n",
      "Distancia minima: 60 con lista: [37, 47, 48, 11, 24]\n",
      "Mejora:  0.2857142857142857\n",
      "Tiempo de ejecucion: 0.0284 segundos\n"
     ]
    }
   ],
   "source": [
    "#Para T=400:\n",
    "T=400\n",
    "t1=time()\n",
    "dist, change = simulated_annealing(picking_list,order,T,True)\n",
    "t2=time()\n",
    "mejora.append(change)\n",
    "t_alg = round(t2-t1,4)\n",
    "tiempo_pick.append(t_alg)\n",
    "print(\"Tiempo de ejecucion:\",t_alg,\"segundos\")"
   ]
  },
  {
   "cell_type": "code",
   "execution_count": 6,
   "metadata": {},
   "outputs": [
    {
     "name": "stdout",
     "output_type": "stream",
     "text": [
      "Distancia inicial: 84 con lista: [37, 47, 11, 48, 24]\n",
      "Distancia minima: 84 con lista: [11, 47, 37, 48, 24]\n",
      "Mejora:  0.0\n",
      "Tiempo de ejecucion: 0.0153 segundos\n"
     ]
    }
   ],
   "source": [
    "#Para T=500\n",
    "T=500\n",
    "t1=time()\n",
    "dist, change = simulated_annealing(picking_list,order,T,True)\n",
    "t2=time()\n",
    "mejora.append(change)\n",
    "t_alg = round(t2-t1,4)\n",
    "tiempo_pick.append(t_alg)\n",
    "print(\"Tiempo de ejecucion:\",t_alg,\"segundos\")"
   ]
  },
  {
   "cell_type": "code",
   "execution_count": 7,
   "metadata": {},
   "outputs": [
    {
     "name": "stdout",
     "output_type": "stream",
     "text": [
      "Distancia inicial: 84 con lista: [37, 47, 11, 48, 24]\n",
      "Distancia minima: 78 con lista: [24, 47, 11, 48, 37]\n",
      "Mejora:  0.07142857142857142\n",
      "Tiempo de ejecucion: 0.0341 segundos\n"
     ]
    }
   ],
   "source": [
    "#Para T=1000\n",
    "T=1000\n",
    "t1=time()\n",
    "dist, change = simulated_annealing(picking_list,order,T,True)\n",
    "t2=time()\n",
    "mejora.append(change)\n",
    "t_alg = round(t2-t1,4)\n",
    "tiempo_pick.append(t_alg)\n",
    "print(\"Tiempo de ejecucion:\",t_alg,\"segundos\")"
   ]
  },
  {
   "cell_type": "code",
   "execution_count": 8,
   "metadata": {},
   "outputs": [
    {
     "name": "stdout",
     "output_type": "stream",
     "text": [
      "Distancia inicial: 84 con lista: [37, 47, 11, 48, 24]\n",
      "Distancia minima: 78 con lista: [37, 48, 11, 47, 24]\n",
      "Mejora:  0.07142857142857142\n",
      "Tiempo de ejecucion: 0.0158 segundos\n"
     ]
    }
   ],
   "source": [
    "#Para T=1500\n",
    "T=1500\n",
    "t1=time()\n",
    "dist, change = simulated_annealing(picking_list,order,T,True)\n",
    "t2=time()\n",
    "mejora.append(change)\n",
    "t_alg = round(t2-t1,4)\n",
    "tiempo_pick.append(t_alg)\n",
    "print(\"Tiempo de ejecucion:\",t_alg,\"segundos\")"
   ]
  },
  {
   "cell_type": "code",
   "execution_count": 9,
   "metadata": {},
   "outputs": [
    {
     "name": "stdout",
     "output_type": "stream",
     "text": [
      "Distancia inicial: 84 con lista: [37, 47, 11, 48, 24]\n",
      "Distancia minima: 82 con lista: [47, 37, 11, 48, 24]\n",
      "Mejora:  0.023809523809523808\n",
      "Tiempo de ejecucion: 0.029 segundos\n"
     ]
    }
   ],
   "source": [
    "#Para T=3000\n",
    "T=3000\n",
    "t1=time()\n",
    "dist, change = simulated_annealing(picking_list,order,T,True)\n",
    "t2=time()\n",
    "mejora.append(change)\n",
    "t_alg = round(t2-t1,4)\n",
    "tiempo_pick.append(t_alg)\n",
    "print(\"Tiempo de ejecucion:\",t_alg,\"segundos\")"
   ]
  },
  {
   "cell_type": "markdown",
   "metadata": {},
   "source": [
    "Para una lista de picking pequeña no se notan grandes diferencias en cuanto al tiempo de resolución del algoritmo, y al ser tan pequeño el tamaño de orden no se puede apreciar. \n",
    "Se realizará un análisis teniendo en cuenta la cantidad de órdenes de _picking_: "
   ]
  },
  {
   "cell_type": "code",
   "execution_count": 10,
   "metadata": {},
   "outputs": [],
   "source": [
    "import matplotlib.pyplot as plt\n",
    "picking_list = [37, 47, 11, 48, 24, 9, 20, 43, 39, 37]\n",
    "tiempo = []\n",
    "Temp=[]\n",
    "cambio=[]"
   ]
  },
  {
   "cell_type": "code",
   "execution_count": 11,
   "metadata": {},
   "outputs": [
    {
     "name": "stdout",
     "output_type": "stream",
     "text": [
      "Distancia inicial: 121 con lista: [37, 47, 11, 48, 24, 9, 20, 43, 39, 37]\n",
      "Distancia minima: 107 con lista: [37, 47, 11, 48, 24, 39, 20, 43, 9, 37]\n",
      "Mejora:  0.11570247933884298\n",
      "Tiempo de ejecucion: 0.0303 segundos\n"
     ]
    }
   ],
   "source": [
    "#Para T=100:\n",
    "T=100\n",
    "Temp.append(T)\n",
    "t1=time()\n",
    "dist, change = simulated_annealing(picking_list,order,T,True)\n",
    "t2=time()\n",
    "cambio.append(change)\n",
    "t_alg=round(t2-t1,4)\n",
    "tiempo.append(t_alg)\n",
    "print(\"Tiempo de ejecucion:\",t_alg,\"segundos\")"
   ]
  },
  {
   "cell_type": "code",
   "execution_count": 12,
   "metadata": {},
   "outputs": [
    {
     "name": "stdout",
     "output_type": "stream",
     "text": [
      "Distancia inicial: 121 con lista: [37, 47, 11, 48, 24, 9, 20, 43, 39, 37]\n",
      "Distancia minima: 113 con lista: [37, 47, 11, 48, 24, 9, 43, 20, 39, 37]\n",
      "Mejora:  0.06611570247933884\n",
      "Tiempo de ejecucion: 0.0382 segundos\n"
     ]
    }
   ],
   "source": [
    "#Para T=200:\n",
    "T=200\n",
    "Temp.append(T)\n",
    "t1=time()\n",
    "dist, change = simulated_annealing(picking_list,order,T,True)\n",
    "t2=time()\n",
    "cambio.append(change)\n",
    "t_alg=round(t2-t1,4)\n",
    "tiempo.append(t_alg)\n",
    "print(\"Tiempo de ejecucion:\",t_alg,\"segundos\")"
   ]
  },
  {
   "cell_type": "code",
   "execution_count": 13,
   "metadata": {},
   "outputs": [
    {
     "name": "stdout",
     "output_type": "stream",
     "text": [
      "Distancia inicial: 121 con lista: [37, 47, 11, 48, 24, 9, 20, 43, 39, 37]\n",
      "Distancia minima: 111 con lista: [37, 47, 11, 20, 24, 9, 48, 43, 39, 37]\n",
      "Mejora:  0.08264462809917356\n",
      "Tiempo de ejecucion: 0.0233 segundos\n"
     ]
    }
   ],
   "source": [
    "#Para T=300:\n",
    "T=300\n",
    "Temp.append(T)\n",
    "t1=time()\n",
    "dist, change = simulated_annealing(picking_list,order,T,True)\n",
    "t2=time()\n",
    "cambio.append(change)\n",
    "t_alg=round(t2-t1,4)\n",
    "tiempo.append(t_alg)\n",
    "print(\"Tiempo de ejecucion:\",t_alg,\"segundos\")"
   ]
  },
  {
   "cell_type": "code",
   "execution_count": 14,
   "metadata": {},
   "outputs": [
    {
     "name": "stdout",
     "output_type": "stream",
     "text": [
      "Distancia inicial: 121 con lista: [37, 47, 11, 48, 24, 9, 20, 43, 39, 37]\n",
      "Distancia minima: 113 con lista: [20, 47, 11, 48, 24, 9, 37, 43, 39, 37]\n",
      "Mejora:  0.06611570247933884\n",
      "Tiempo de ejecucion: 0.0398 segundos\n"
     ]
    }
   ],
   "source": [
    "#Para T=400:\n",
    "T=400\n",
    "Temp.append(T)\n",
    "t1=time()\n",
    "dist, change = simulated_annealing(picking_list,order,T,True)\n",
    "t2=time()\n",
    "cambio.append(change)\n",
    "t_alg=round(t2-t1,4)\n",
    "tiempo.append(t_alg)\n",
    "print(\"Tiempo de ejecucion:\",t_alg,\"segundos\")"
   ]
  },
  {
   "cell_type": "code",
   "execution_count": 15,
   "metadata": {},
   "outputs": [
    {
     "name": "stdout",
     "output_type": "stream",
     "text": [
      "Distancia inicial: 121 con lista: [37, 47, 11, 48, 24, 9, 20, 43, 39, 37]\n",
      "Distancia minima: 105 con lista: [37, 24, 11, 48, 47, 9, 20, 43, 39, 37]\n",
      "Mejora:  0.1322314049586777\n",
      "Tiempo de ejecucion: 0.0258 segundos\n"
     ]
    }
   ],
   "source": [
    "#Para T=500:\n",
    "T=500\n",
    "Temp.append(T)\n",
    "t1=time()\n",
    "dist, change = simulated_annealing(picking_list,order,T,True)\n",
    "t2=time()\n",
    "cambio.append(change)\n",
    "t_alg=round(t2-t1,4)\n",
    "tiempo.append(t_alg)\n",
    "print(\"Tiempo de ejecucion:\",t_alg,\"segundos\")"
   ]
  },
  {
   "cell_type": "code",
   "execution_count": 16,
   "metadata": {},
   "outputs": [
    {
     "name": "stdout",
     "output_type": "stream",
     "text": [
      "Distancia inicial: 121 con lista: [37, 47, 11, 48, 24, 9, 20, 43, 39, 37]\n",
      "Distancia minima: 97 con lista: [37, 47, 48, 11, 24, 9, 20, 43, 39, 37]\n",
      "Mejora:  0.19834710743801653\n",
      "Tiempo de ejecucion: 0.0404 segundos\n"
     ]
    }
   ],
   "source": [
    "#Para T=1000:\n",
    "T=1000\n",
    "Temp.append(T)\n",
    "t1=time()\n",
    "dist, change = simulated_annealing(picking_list,order,T,True)\n",
    "t2=time()\n",
    "cambio.append(change)\n",
    "t_alg=round(t2-t1,4)\n",
    "tiempo.append(t_alg)\n",
    "print(\"Tiempo de ejecucion:\",t_alg,\"segundos\")"
   ]
  },
  {
   "cell_type": "code",
   "execution_count": 17,
   "metadata": {},
   "outputs": [
    {
     "name": "stdout",
     "output_type": "stream",
     "text": [
      "Distancia inicial: 121 con lista: [37, 47, 11, 48, 24, 9, 20, 43, 39, 37]\n",
      "Distancia minima: 121 con lista: [11, 47, 37, 48, 24, 9, 20, 43, 39, 37]\n",
      "Mejora:  0.0\n",
      "Tiempo de ejecucion: 0.0429 segundos\n"
     ]
    }
   ],
   "source": [
    "#Para T=1500:\n",
    "T=1500\n",
    "Temp.append(T)\n",
    "t1=time()\n",
    "dist, change = simulated_annealing(picking_list,order,T,True)\n",
    "t2=time()\n",
    "cambio.append(change)\n",
    "t_alg=round(t2-t1,4)\n",
    "tiempo.append(t_alg)\n",
    "print(\"Tiempo de ejecucion:\",t_alg,\"segundos\")"
   ]
  },
  {
   "cell_type": "code",
   "execution_count": 18,
   "metadata": {},
   "outputs": [
    {
     "name": "stdout",
     "output_type": "stream",
     "text": [
      "Distancia inicial: 121 con lista: [37, 47, 11, 48, 24, 9, 20, 43, 39, 37]\n",
      "Distancia minima: 121 con lista: [37, 47, 11, 48, 24, 9, 39, 43, 20, 37]\n",
      "Mejora:  0.0\n",
      "Tiempo de ejecucion: 0.0365 segundos\n"
     ]
    }
   ],
   "source": [
    "#Para T=3000:\n",
    "T=3000\n",
    "Temp.append(T)\n",
    "t1=time()\n",
    "dist, change = simulated_annealing(picking_list,order,T,True)\n",
    "t2=time()\n",
    "cambio.append(change)\n",
    "t_alg=round(t2-t1,4)\n",
    "tiempo.append(t_alg)\n",
    "print(\"Tiempo de ejecucion:\",t_alg,\"segundos\")"
   ]
  },
  {
   "cell_type": "code",
   "execution_count": 19,
   "metadata": {},
   "outputs": [
    {
     "data": {
      "image/png": "[encoded data removed]",
      "text/plain": [
       "<Figure size 1152x360 with 2 Axes>"
      ]
     },
     "metadata": {
      "needs_background": "light"
     },
     "output_type": "display_data"
    }
   ],
   "source": [
    "\n",
    "fig, (ax0, ax1) = plt.subplots(1, 2, figsize=(16, 5))\n",
    "ax0.plot(Temp, tiempo, 'r', Temp, tiempo_pick, 'b')\n",
    "ax0.grid()\n",
    "#ax0.ylabel('Tiempo de demora')\n",
    "#ax0.ylabel('Temperatura')\n",
    "ax1.plot(Temp, cambio, 'g', Temp, mejora, 'y')\n",
    "ax1.grid()\n",
    "#ax0.ylabel('Mejora')\n",
    "#ax0.ylabel('Temperatura')"
   ]
  },
  {
   "cell_type": "markdown",
   "metadata": {},
   "source": [
    "El aumento de temperatura no significa que se trate de un aumento en tiempo de computo del algoritmo, esto se debe\n",
    "a que el perfil de decrecimiento de la temperatura es lineal pero con un porcentaje *controlar* _no es lineal, decrece a razon del valor anterior_\n",
    "En el segundo gráfico se puede observar la variación de la energía, se ve el cambio de la energia de manera relativa. (E(inicial)-E(final))/E(inicial).\n",
    "El cambio puede ser más notorio al variar el coeficiente de descenso de temperatura. Como la variacion de la temperatura se hace lineal, mediante un factor, no cambia mucho la cantidad de iteraciones realizadas, entonces al variar solo T no modifica mucho la performance del programa, no asi variando c."
   ]
  },
  {
   "cell_type": "markdown",
   "metadata": {},
   "source": [
    "Al variar la constante c, se puede variar el tipo de decrecimiento del algoritmo. El mismo puede ser lineal, exponencial o logarítmico dependiendo del tipo de problema a resolver. Al variar también el tamaño del picking se puede observar la diferencia en efectividad del algoritmo. Para un decrecimiento de tipo exponencial el algoritmo funciona bien para ordenes pequeñas (Se actualiza la temperatura con un valor T/2). En el bloque siguiente se analizará la mejora del resultado respecto al tiempo con 100 iteraciones para una picking list de tamaño 10.\n"
   ]
  },
  {
   "cell_type": "code",
   "execution_count": 31,
   "metadata": {
    "scrolled": true
   },
   "outputs": [
    {
     "name": "stdout",
     "output_type": "stream",
     "text": [
      "Distancia inicial: 121 con lista: [37, 47, 11, 48, 24, 9, 20, 43, 39, 37]\n",
      "Distancia minima: 121 con lista: [37, 47, 11, 48, 24, 9, 39, 43, 20, 37]\n",
      "Mejora:  0.0\n",
      "Distancia inicial: 121 con lista: [37, 47, 11, 48, 24, 9, 20, 43, 39, 37]\n",
      "Distancia minima: 115 con lista: [37, 47, 11, 48, 24, 9, 20, 39, 43, 37]\n",
      "Mejora:  0.049586776859504134\n",
      "Distancia inicial: 121 con lista: [37, 47, 11, 48, 24, 9, 20, 43, 39, 37]\n",
      "Distancia minima: 121 con lista: [11, 47, 37, 48, 24, 9, 20, 43, 39, 37]\n",
      "Mejora:  0.0\n",
      "Distancia inicial: 121 con lista: [37, 47, 11, 48, 24, 9, 20, 43, 39, 37]\n",
      "Distancia minima: 113 con lista: [20, 47, 11, 48, 24, 9, 37, 43, 39, 37]\n",
      "Mejora:  0.06611570247933884\n",
      "Distancia inicial: 121 con lista: [37, 47, 11, 48, 24, 9, 20, 43, 39, 37]\n",
      "Distancia minima: 109 con lista: [37, 47, 20, 48, 24, 9, 11, 43, 39, 37]\n",
      "Mejora:  0.09917355371900827\n",
      "Distancia inicial: 121 con lista: [37, 47, 11, 48, 24, 9, 20, 43, 39, 37]\n",
      "Distancia minima: 121 con lista: [11, 47, 37, 48, 24, 9, 20, 43, 39, 37]\n",
      "Mejora:  0.0\n",
      "Distancia inicial: 121 con lista: [37, 47, 11, 48, 24, 9, 20, 43, 39, 37]\n",
      "Distancia minima: 115 con lista: [48, 47, 11, 37, 24, 9, 20, 43, 39, 37]\n",
      "Mejora:  0.049586776859504134\n",
      "Distancia inicial: 121 con lista: [37, 47, 11, 48, 24, 9, 20, 43, 39, 37]\n",
      "Distancia minima: 99 con lista: [37, 47, 11, 39, 24, 9, 20, 43, 48, 37]\n",
      "Mejora:  0.18181818181818182\n",
      "Distancia inicial: 121 con lista: [37, 47, 11, 48, 24, 9, 20, 43, 39, 37]\n",
      "Distancia minima: 113 con lista: [20, 47, 11, 48, 24, 9, 37, 43, 39, 37]\n",
      "Mejora:  0.06611570247933884\n",
      "Distancia inicial: 121 con lista: [37, 47, 11, 48, 24, 9, 20, 43, 39, 37]\n",
      "Distancia minima: 121 con lista: [37, 47, 11, 48, 24, 9, 20, 43, 39, 37]\n",
      "Mejora:  0.0\n",
      "Distancia inicial: 121 con lista: [37, 47, 11, 48, 24, 9, 20, 43, 39, 37]\n",
      "Distancia minima: 119 con lista: [47, 37, 11, 48, 24, 9, 20, 43, 39, 37]\n",
      "Mejora:  0.01652892561983471\n",
      "Distancia inicial: 121 con lista: [37, 47, 11, 48, 24, 9, 20, 43, 39, 37]\n",
      "Distancia minima: 115 con lista: [48, 47, 11, 37, 24, 9, 20, 43, 39, 37]\n",
      "Mejora:  0.049586776859504134\n",
      "Distancia inicial: 121 con lista: [37, 47, 11, 48, 24, 9, 20, 43, 39, 37]\n",
      "Distancia minima: 121 con lista: [37, 47, 11, 48, 24, 9, 20, 43, 39, 37]\n",
      "Mejora:  0.0\n",
      "Distancia inicial: 121 con lista: [37, 47, 11, 48, 24, 9, 20, 43, 39, 37]\n",
      "Distancia minima: 115 con lista: [37, 11, 47, 48, 24, 9, 20, 43, 39, 37]\n",
      "Mejora:  0.049586776859504134\n",
      "Distancia inicial: 121 con lista: [37, 47, 11, 48, 24, 9, 20, 43, 39, 37]\n",
      "Distancia minima: 117 con lista: [24, 47, 11, 48, 37, 9, 20, 43, 39, 37]\n",
      "Mejora:  0.03305785123966942\n",
      "Distancia inicial: 121 con lista: [37, 47, 11, 48, 24, 9, 20, 43, 39, 37]\n",
      "Distancia minima: 119 con lista: [37, 9, 11, 48, 24, 47, 20, 43, 39, 37]\n",
      "Mejora:  0.01652892561983471\n",
      "Distancia inicial: 121 con lista: [37, 47, 11, 48, 24, 9, 20, 43, 39, 37]\n",
      "Distancia minima: 115 con lista: [37, 11, 47, 48, 24, 9, 20, 43, 39, 37]\n",
      "Mejora:  0.049586776859504134\n",
      "Distancia inicial: 121 con lista: [37, 47, 11, 48, 24, 9, 20, 43, 39, 37]\n",
      "Distancia minima: 117 con lista: [37, 47, 11, 48, 20, 9, 24, 43, 39, 37]\n",
      "Mejora:  0.03305785123966942\n",
      "Distancia inicial: 121 con lista: [37, 47, 11, 48, 24, 9, 20, 43, 39, 37]\n",
      "Distancia minima: 117 con lista: [37, 43, 11, 48, 24, 9, 20, 47, 39, 37]\n",
      "Mejora:  0.03305785123966942\n",
      "Distancia inicial: 121 con lista: [37, 47, 11, 48, 24, 9, 20, 43, 39, 37]\n",
      "Distancia minima: 121 con lista: [37, 47, 11, 48, 24, 9, 20, 43, 39, 37]\n",
      "Mejora:  0.0\n"
     ]
    },
    {
     "data": {
      "image/png": "[encoded data removed]",
      "text/plain": [
       "<Figure size 432x288 with 1 Axes>"
      ]
     },
     "metadata": {
      "needs_background": "light"
     },
     "output_type": "display_data"
    }
   ],
   "source": [
    "from temple_simulado_analisis import fitness, swap_positions, simulated_annealing, plot_solution\n",
    "from time import time\n",
    "import matplotlib.pyplot as plt\n",
    "\n",
    "picking_list = [37, 47, 11, 48, 24, 9, 20, 43, 39, 37]\n",
    "order = [12, 3, 20, 36, 32, 37, 1, 2, 4, 23, 39, 9, 19, 40, 46, 29, 27, 35, 45, 13, 16, 14, 24, 11, 48, 6, 7, 25, 5, 47, 15, 41, 43, 22, 8, 34, 26, 42, 38, 21, 33, 31, 30, 28, 17, 18, 10, 44]   \n",
    "T = 250\n",
    "Tiempo=[]\n",
    "mejora=[]\n",
    "#for i in range (0,100):\n",
    "flag = True\n",
    "while flag == True:\n",
    "    dist, change = simulated_annealing(picking_list,order,T,True)\n",
    "    mejora.append(change)\n",
    "    Tiempo.append(T)\n",
    "\n",
    "    if T == 5000:\n",
    "        flag = False\n",
    "    T +=250    \n",
    "plt.plot(Tiempo, mejora, 'b')\n",
    "plt.suptitle('Mejora de la respuesta en función al tiempo', fontsize = 20)\n",
    "plt.xlabel('Temperatura', fontsize = 16)\n",
    "plt.ylabel('Mejora %', fontsize = 16)\n",
    "#lt.xscale('log')\n",
    "plt.show()"
   ]
  },
  {
   "cell_type": "markdown",
   "metadata": {},
   "source": [
    "Para el caso previo (con un perfil de decrecimiento exponencial con T/2) al aumentar la temperatura no se encuentran resultados concluyentes en cuanto a la mejora del mejor estado teniendo en cuenta el estado inicial.\n",
    "A continuación se modificará el perfil de decrecimiento para observar los resultados posteriormente"
   ]
  },
  {
   "cell_type": "code",
   "execution_count": 45,
   "metadata": {
    "scrolled": false
   },
   "outputs": [
    {
     "name": "stdout",
     "output_type": "stream",
     "text": [
      "Distancia inicial: 121 con lista: [37, 47, 11, 48, 24, 9, 20, 43, 39, 37]\n",
      "Distancia minima: 115 con lista: [37, 11, 47, 48, 24, 9, 20, 43, 39, 37]\n",
      "Mejora:  0.049586776859504134\n",
      "Distancia inicial: 121 con lista: [37, 47, 11, 48, 24, 9, 20, 43, 39, 37]\n",
      "Distancia minima: 117 con lista: [24, 47, 11, 48, 37, 9, 20, 43, 39, 37]\n",
      "Mejora:  0.03305785123966942\n",
      "Distancia inicial: 121 con lista: [37, 47, 11, 48, 24, 9, 20, 43, 39, 37]\n",
      "Distancia minima: 113 con lista: [37, 47, 11, 43, 24, 9, 20, 48, 39, 37]\n",
      "Mejora:  0.06611570247933884\n",
      "Distancia inicial: 121 con lista: [37, 47, 11, 48, 24, 9, 20, 43, 39, 37]\n",
      "Distancia minima: 103 con lista: [37, 47, 11, 48, 43, 9, 20, 24, 39, 37]\n",
      "Mejora:  0.1487603305785124\n",
      "Distancia inicial: 121 con lista: [37, 47, 11, 48, 24, 9, 20, 43, 39, 37]\n",
      "Distancia minima: 117 con lista: [37, 43, 11, 48, 24, 9, 20, 47, 39, 37]\n",
      "Mejora:  0.03305785123966942\n",
      "Distancia inicial: 121 con lista: [37, 47, 11, 48, 24, 9, 20, 43, 39, 37]\n",
      "Distancia minima: 121 con lista: [37, 47, 11, 48, 24, 9, 39, 43, 20, 37]\n",
      "Mejora:  0.0\n",
      "Distancia inicial: 121 con lista: [37, 47, 11, 48, 24, 9, 20, 43, 39, 37]\n",
      "Distancia minima: 113 con lista: [20, 47, 11, 48, 24, 9, 37, 43, 39, 37]\n",
      "Mejora:  0.06611570247933884\n",
      "Distancia inicial: 121 con lista: [37, 47, 11, 48, 24, 9, 20, 43, 39, 37]\n",
      "Distancia minima: 121 con lista: [37, 47, 11, 48, 24, 9, 20, 43, 39, 37]\n",
      "Mejora:  0.0\n",
      "Distancia inicial: 121 con lista: [37, 47, 11, 48, 24, 9, 20, 43, 39, 37]\n",
      "Distancia minima: 107 con lista: [37, 47, 11, 48, 24, 39, 20, 43, 9, 37]\n",
      "Mejora:  0.11570247933884298\n",
      "Distancia inicial: 121 con lista: [37, 47, 11, 48, 24, 9, 20, 43, 39, 37]\n",
      "Distancia minima: 113 con lista: [37, 47, 11, 48, 24, 9, 43, 20, 39, 37]\n",
      "Mejora:  0.06611570247933884\n",
      "Distancia inicial: 121 con lista: [37, 47, 11, 48, 24, 9, 20, 43, 39, 37]\n",
      "Distancia minima: 113 con lista: [37, 47, 11, 48, 24, 9, 43, 20, 39, 37]\n",
      "Mejora:  0.06611570247933884\n",
      "Distancia inicial: 121 con lista: [37, 47, 11, 48, 24, 9, 20, 43, 39, 37]\n",
      "Distancia minima: 117 con lista: [37, 47, 11, 48, 24, 20, 9, 43, 39, 37]\n",
      "Mejora:  0.03305785123966942\n",
      "Distancia inicial: 121 con lista: [37, 47, 11, 48, 24, 9, 20, 43, 39, 37]\n",
      "Distancia minima: 107 con lista: [37, 47, 9, 48, 24, 11, 20, 43, 39, 37]\n",
      "Mejora:  0.11570247933884298\n",
      "Distancia inicial: 121 con lista: [37, 47, 11, 48, 24, 9, 20, 43, 39, 37]\n",
      "Distancia minima: 115 con lista: [37, 47, 11, 48, 9, 24, 20, 43, 39, 37]\n",
      "Mejora:  0.049586776859504134\n",
      "Distancia inicial: 121 con lista: [37, 47, 11, 48, 24, 9, 20, 43, 39, 37]\n",
      "Distancia minima: 115 con lista: [48, 47, 11, 37, 24, 9, 20, 43, 39, 37]\n",
      "Mejora:  0.049586776859504134\n",
      "Distancia inicial: 121 con lista: [37, 47, 11, 48, 24, 9, 20, 43, 39, 37]\n",
      "Distancia minima: 109 con lista: [37, 47, 11, 24, 48, 9, 20, 43, 39, 37]\n",
      "Mejora:  0.09917355371900827\n",
      "Distancia inicial: 121 con lista: [37, 47, 11, 48, 24, 9, 20, 43, 39, 37]\n",
      "Distancia minima: 115 con lista: [37, 47, 11, 48, 24, 9, 20, 39, 43, 37]\n",
      "Mejora:  0.049586776859504134\n",
      "Distancia inicial: 121 con lista: [37, 47, 11, 48, 24, 9, 20, 43, 39, 37]\n",
      "Distancia minima: 119 con lista: [37, 9, 11, 48, 24, 47, 20, 43, 39, 37]\n",
      "Mejora:  0.01652892561983471\n",
      "Distancia inicial: 121 con lista: [37, 47, 11, 48, 24, 9, 20, 43, 39, 37]\n",
      "Distancia minima: 113 con lista: [37, 47, 43, 48, 24, 9, 20, 11, 39, 37]\n",
      "Mejora:  0.06611570247933884\n",
      "Distancia inicial: 121 con lista: [37, 47, 11, 48, 24, 9, 20, 43, 39, 37]\n",
      "Distancia minima: 119 con lista: [37, 9, 11, 48, 24, 47, 20, 43, 39, 37]\n",
      "Mejora:  0.01652892561983471\n",
      "Distancia inicial: 121 con lista: [37, 47, 11, 48, 24, 9, 20, 43, 39, 37]\n",
      "Distancia minima: 121 con lista: [37, 47, 11, 48, 24, 9, 20, 43, 39, 37]\n",
      "Mejora:  0.0\n",
      "Distancia inicial: 121 con lista: [37, 47, 11, 48, 24, 9, 20, 43, 39, 37]\n",
      "Distancia minima: 115 con lista: [48, 47, 11, 37, 24, 9, 20, 43, 39, 37]\n",
      "Mejora:  0.049586776859504134\n",
      "Distancia inicial: 121 con lista: [37, 47, 11, 48, 24, 9, 20, 43, 39, 37]\n",
      "Distancia minima: 115 con lista: [37, 11, 47, 48, 24, 9, 20, 43, 39, 37]\n",
      "Mejora:  0.049586776859504134\n",
      "Distancia inicial: 121 con lista: [37, 47, 11, 48, 24, 9, 20, 43, 39, 37]\n",
      "Distancia minima: 99 con lista: [37, 47, 11, 39, 24, 9, 20, 43, 48, 37]\n",
      "Mejora:  0.18181818181818182\n",
      "Distancia inicial: 121 con lista: [37, 47, 11, 48, 24, 9, 20, 43, 39, 37]\n",
      "Distancia minima: 121 con lista: [37, 47, 24, 48, 11, 9, 20, 43, 39, 37]\n",
      "Mejora:  0.0\n",
      "Distancia inicial: 121 con lista: [37, 47, 11, 48, 24, 9, 20, 43, 39, 37]\n",
      "Distancia minima: 119 con lista: [47, 37, 11, 48, 24, 9, 20, 43, 39, 37]\n",
      "Mejora:  0.01652892561983471\n",
      "Distancia inicial: 121 con lista: [37, 47, 11, 48, 24, 9, 20, 43, 39, 37]\n",
      "Distancia minima: 121 con lista: [37, 47, 11, 48, 24, 9, 20, 43, 39, 37]\n",
      "Mejora:  0.0\n",
      "Distancia inicial: 121 con lista: [37, 47, 11, 48, 24, 9, 20, 43, 39, 37]\n",
      "Distancia minima: 121 con lista: [37, 47, 11, 48, 24, 9, 20, 43, 39, 37]\n",
      "Mejora:  0.0\n",
      "Distancia inicial: 121 con lista: [37, 47, 11, 48, 24, 9, 20, 43, 39, 37]\n",
      "Distancia minima: 119 con lista: [37, 20, 11, 48, 24, 9, 47, 43, 39, 37]\n",
      "Mejora:  0.01652892561983471\n",
      "Distancia inicial: 121 con lista: [37, 47, 11, 48, 24, 9, 20, 43, 39, 37]\n",
      "Distancia minima: 121 con lista: [37, 47, 11, 48, 24, 9, 20, 43, 39, 37]\n",
      "Mejora:  0.0\n",
      "Distancia inicial: 121 con lista: [37, 47, 11, 48, 24, 9, 20, 43, 39, 37]\n"
     ]
    },
    {
     "ename": "TypeError",
     "evalue": "object of type 'NoneType' has no len()",
     "output_type": "error",
     "traceback": [
      "\u001b[0;31m---------------------------------------------------------------------------\u001b[0m",
      "\u001b[0;31mTypeError\u001b[0m                                 Traceback (most recent call last)",
      "\u001b[0;32m<ipython-input-45-80efeb2fcd84>\u001b[0m in \u001b[0;36m<module>\u001b[0;34m\u001b[0m\n\u001b[1;32m     16\u001b[0m     \u001b[0mflag\u001b[0m \u001b[0;34m=\u001b[0m \u001b[0;32mTrue\u001b[0m\u001b[0;34m\u001b[0m\u001b[0;34m\u001b[0m\u001b[0m\n\u001b[1;32m     17\u001b[0m     \u001b[0;32mwhile\u001b[0m \u001b[0mflag\u001b[0m \u001b[0;34m==\u001b[0m \u001b[0;32mTrue\u001b[0m\u001b[0;34m:\u001b[0m\u001b[0;34m\u001b[0m\u001b[0;34m\u001b[0m\u001b[0m\n\u001b[0;32m---> 18\u001b[0;31m         \u001b[0mt\u001b[0m\u001b[0;34m,\u001b[0m \u001b[0mimprovement\u001b[0m \u001b[0;34m=\u001b[0m \u001b[0msimulated_annealing\u001b[0m\u001b[0;34m(\u001b[0m\u001b[0mpicking_list\u001b[0m\u001b[0;34m,\u001b[0m\u001b[0morder\u001b[0m\u001b[0;34m,\u001b[0m\u001b[0mT\u001b[0m\u001b[0;34m,\u001b[0m\u001b[0;32mTrue\u001b[0m\u001b[0;34m)\u001b[0m\u001b[0;34m\u001b[0m\u001b[0;34m\u001b[0m\u001b[0m\n\u001b[0m\u001b[1;32m     19\u001b[0m         \u001b[0mtemple\u001b[0m\u001b[0;34m.\u001b[0m\u001b[0mappend\u001b[0m\u001b[0;34m(\u001b[0m\u001b[0mimprovement\u001b[0m\u001b[0;34m)\u001b[0m\u001b[0;34m\u001b[0m\u001b[0;34m\u001b[0m\u001b[0m\n\u001b[1;32m     20\u001b[0m         \u001b[0mTiempo\u001b[0m\u001b[0;34m.\u001b[0m\u001b[0mappend\u001b[0m\u001b[0;34m(\u001b[0m\u001b[0mT\u001b[0m\u001b[0;34m)\u001b[0m\u001b[0;34m\u001b[0m\u001b[0;34m\u001b[0m\u001b[0m\n",
      "\u001b[0;32m/media/datos/UNCUYO/IA2/TP_Grupo/IA2/TP1/temple_simulado_analisis.py\u001b[0m in \u001b[0;36msimulated_annealing\u001b[0;34m(picking_list, order, want_to_print, T)\u001b[0m\n\u001b[1;32m     56\u001b[0m         \u001b[0mnext\u001b[0m \u001b[0;34m=\u001b[0m \u001b[0mswap_positions\u001b[0m\u001b[0;34m(\u001b[0m\u001b[0mcurrent\u001b[0m\u001b[0;34m)\u001b[0m \u001b[0;31m#vecino random\u001b[0m\u001b[0;34m\u001b[0m\u001b[0;34m\u001b[0m\u001b[0m\n\u001b[1;32m     57\u001b[0m \u001b[0;34m\u001b[0m\u001b[0m\n\u001b[0;32m---> 58\u001b[0;31m         \u001b[0mf_next\u001b[0m \u001b[0;34m=\u001b[0m \u001b[0mfitness\u001b[0m\u001b[0;34m(\u001b[0m\u001b[0mnext\u001b[0m\u001b[0;34m,\u001b[0m\u001b[0mmap\u001b[0m\u001b[0;34m)\u001b[0m\u001b[0;34m\u001b[0m\u001b[0;34m\u001b[0m\u001b[0m\n\u001b[0m\u001b[1;32m     59\u001b[0m         \u001b[0mf_current\u001b[0m \u001b[0;34m=\u001b[0m \u001b[0mfitness\u001b[0m\u001b[0;34m(\u001b[0m\u001b[0mcurrent\u001b[0m\u001b[0;34m,\u001b[0m\u001b[0mmap\u001b[0m\u001b[0;34m)\u001b[0m\u001b[0;34m\u001b[0m\u001b[0;34m\u001b[0m\u001b[0m\n\u001b[1;32m     60\u001b[0m         \u001b[0mdelta_E\u001b[0m \u001b[0;34m=\u001b[0m \u001b[0mf_next\u001b[0m \u001b[0;34m-\u001b[0m \u001b[0mf_current\u001b[0m\u001b[0;34m\u001b[0m\u001b[0;34m\u001b[0m\u001b[0m\n",
      "\u001b[0;32m/media/datos/UNCUYO/IA2/TP_Grupo/IA2/TP1/temple_simulado_analisis.py\u001b[0m in \u001b[0;36mfitness\u001b[0;34m(P_list, map)\u001b[0m\n\u001b[1;32m     11\u001b[0m     \u001b[0maux\u001b[0m\u001b[0;34m.\u001b[0m\u001b[0minsert\u001b[0m\u001b[0;34m(\u001b[0m\u001b[0mlen\u001b[0m\u001b[0;34m(\u001b[0m\u001b[0maux\u001b[0m\u001b[0;34m)\u001b[0m\u001b[0;34m,\u001b[0m\u001b[0;36m0\u001b[0m\u001b[0;34m)\u001b[0m\u001b[0;34m\u001b[0m\u001b[0;34m\u001b[0m\u001b[0m\n\u001b[1;32m     12\u001b[0m     \u001b[0;32mfor\u001b[0m \u001b[0mj\u001b[0m \u001b[0;32min\u001b[0m \u001b[0mrange\u001b[0m\u001b[0;34m(\u001b[0m\u001b[0mlen\u001b[0m\u001b[0;34m(\u001b[0m\u001b[0maux\u001b[0m\u001b[0;34m)\u001b[0m\u001b[0;34m-\u001b[0m\u001b[0;36m1\u001b[0m\u001b[0;34m)\u001b[0m\u001b[0;34m:\u001b[0m\u001b[0;34m\u001b[0m\u001b[0;34m\u001b[0m\u001b[0m\n\u001b[0;32m---> 13\u001b[0;31m         \u001b[0mf_total\u001b[0m \u001b[0;34m+=\u001b[0m \u001b[0mlen\u001b[0m\u001b[0;34m(\u001b[0m\u001b[0ma_star\u001b[0m\u001b[0;34m(\u001b[0m\u001b[0mmap\u001b[0m\u001b[0;34m,\u001b[0m\u001b[0maux\u001b[0m\u001b[0;34m[\u001b[0m\u001b[0mj\u001b[0m\u001b[0;34m]\u001b[0m\u001b[0;34m,\u001b[0m\u001b[0maux\u001b[0m\u001b[0;34m[\u001b[0m\u001b[0mj\u001b[0m\u001b[0;34m+\u001b[0m\u001b[0;36m1\u001b[0m\u001b[0;34m]\u001b[0m\u001b[0;34m)\u001b[0m\u001b[0;34m)\u001b[0m\u001b[0;34m\u001b[0m\u001b[0;34m\u001b[0m\u001b[0m\n\u001b[0m\u001b[1;32m     14\u001b[0m     \u001b[0;32mreturn\u001b[0m \u001b[0mf_total\u001b[0m\u001b[0;34m\u001b[0m\u001b[0;34m\u001b[0m\u001b[0m\n\u001b[1;32m     15\u001b[0m \u001b[0;34m\u001b[0m\u001b[0m\n",
      "\u001b[0;31mTypeError\u001b[0m: object of type 'NoneType' has no len()"
     ]
    },
    {
     "data": {
      "image/png": "[encoded data removed]",
      "text/plain": [
       "<Figure size 432x288 with 1 Axes>"
      ]
     },
     "metadata": {
      "needs_background": "light"
     },
     "output_type": "display_data"
    }
   ],
   "source": [
    "#Perfil de decrecimiento:\n",
    "#T = 0.92*T por cada ciclo\n",
    "from temple_simulado_analisis import fitness, swap_positions, simulated_annealing\n",
    "from time import time\n",
    "import matplotlib.pyplot as plt\n",
    "\n",
    "picking_list = [37, 47, 11, 48, 24, 9, 20, 43, 39, 37]\n",
    "order = [12, 3, 20, 36, 32, 37, 1, 2, 4, 23, 39, 9, 19, 40, 46, 29, 27, 35, 45, 13, 16, 14, 24, 11, 48, 6, 7, 25, 5, 47, 15, 41, 43, 22, 8, 34, 26, 42, 38, 21, 33, 31, 30, 28, 17, 18, 10, 44] \n",
    "T=250\n",
    "temple = [] #lista de estados\n",
    "for i in range (1,10):\n",
    "    T = 250\n",
    "    Tiempo=[]\n",
    "    mejora=[]\n",
    "    temple = [] #lista de estados\n",
    "    flag = True\n",
    "    while flag == True:\n",
    "        t, improvement = simulated_annealing(picking_list,order,T,True)\n",
    "        temple.append(improvement)\n",
    "        Tiempo.append(T)\n",
    "        #print(\"TEMPLE: \", temple)\n",
    "\n",
    "        if T == 5000:\n",
    "            flag = False\n",
    "        T +=250      \n",
    "\n",
    "    plt.plot(Tiempo,temple)\n",
    "    plt.suptitle('Mejora de la respuesta en función al tiempo', fontsize = 20)\n",
    "    plt.xlabel('Temperatura T=250', fontsize = 16)\n",
    "    plt.ylabel('Mejora %', fontsize = 16)\n",
    "plt.show() "
   ]
  },
  {
   "cell_type": "code",
   "execution_count": null,
   "metadata": {},
   "outputs": [],
   "source": []
  },
  {
   "cell_type": "code",
   "execution_count": null,
   "metadata": {},
   "outputs": [],
   "source": []
  }
 ],
 "metadata": {
  "kernelspec": {
   "display_name": "Python 3",
   "language": "python",
   "name": "python3"
  },
  "language_info": {
   "codemirror_mode": {
    "name": "ipython",
    "version": 3
   },
   "file_extension": ".py",
   "mimetype": "text/x-python",
   "name": "python",
   "nbconvert_exporter": "python",
   "pygments_lexer": "ipython3",
   "version": "3.8.2"
  }
 },
 "nbformat": 4,
 "nbformat_minor": 4
}
